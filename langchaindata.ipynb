{
 "cells": [
  {
   "cell_type": "code",
   "execution_count": 3,
   "id": "65ff9627-3aa4-41ba-86bc-8d6dbe4cc3c9",
   "metadata": {},
   "outputs": [
    {
     "name": "stdout",
     "output_type": "stream",
     "text": [
      "Note: you may need to restart the kernel to use updated packages.\n"
     ]
    }
   ],
   "source": [
    "%pip install --upgrade --quiet sqlalchemy langchain langchain-community langchain-openai pandas python-dotenv"
   ]
  },
  {
   "cell_type": "code",
   "execution_count": 4,
   "id": "09d2c1af-a591-4991-adb4-543a34d55e29",
   "metadata": {},
   "outputs": [],
   "source": [
    "import pandas as pd"
   ]
  },
  {
   "cell_type": "code",
   "execution_count": 7,
   "id": "23dc538e-f366-4b7b-a09e-cc955ce24494",
   "metadata": {},
   "outputs": [
    {
     "data": {
      "text/html": [
       "<div>\n",
       "<style scoped>\n",
       "    .dataframe tbody tr th:only-of-type {\n",
       "        vertical-align: middle;\n",
       "    }\n",
       "\n",
       "    .dataframe tbody tr th {\n",
       "        vertical-align: top;\n",
       "    }\n",
       "\n",
       "    .dataframe thead th {\n",
       "        text-align: right;\n",
       "    }\n",
       "</style>\n",
       "<table border=\"1\" class=\"dataframe\">\n",
       "  <thead>\n",
       "    <tr style=\"text-align: right;\">\n",
       "      <th></th>\n",
       "      <th>Unnamed: 0</th>\n",
       "      <th>id</th>\n",
       "      <th>apiname</th>\n",
       "      <th>title</th>\n",
       "      <th>difficulty</th>\n",
       "      <th>herotype</th>\n",
       "      <th>alttype</th>\n",
       "      <th>resource</th>\n",
       "      <th>stats</th>\n",
       "      <th>rangetype</th>\n",
       "      <th>...</th>\n",
       "      <th>be</th>\n",
       "      <th>rp</th>\n",
       "      <th>skill_i</th>\n",
       "      <th>skill_q</th>\n",
       "      <th>skill_w</th>\n",
       "      <th>skill_e</th>\n",
       "      <th>skill_r</th>\n",
       "      <th>skills</th>\n",
       "      <th>fullname</th>\n",
       "      <th>nickname</th>\n",
       "    </tr>\n",
       "  </thead>\n",
       "  <tbody>\n",
       "    <tr>\n",
       "      <th>0</th>\n",
       "      <td>Aatrox</td>\n",
       "      <td>266.0</td>\n",
       "      <td>Aatrox</td>\n",
       "      <td>the Darkin Blade</td>\n",
       "      <td>2</td>\n",
       "      <td>Fighter</td>\n",
       "      <td>Tank</td>\n",
       "      <td>Blood Well</td>\n",
       "      <td>{'hp_base': 650, 'hp_lvl': 114, 'mp_base': 0, ...</td>\n",
       "      <td>Melee</td>\n",
       "      <td>...</td>\n",
       "      <td>4800</td>\n",
       "      <td>880</td>\n",
       "      <td>{1: 'Deathbringer Stance'}</td>\n",
       "      <td>{1: 'The Darkin Blade', 2: 'The Darkin Blade 3'}</td>\n",
       "      <td>{1: 'Infernal Chains'}</td>\n",
       "      <td>{1: 'Umbral Dash'}</td>\n",
       "      <td>{1: 'World Ender'}</td>\n",
       "      <td>{1: 'Deathbringer Stance', 2: 'The Darkin Blad...</td>\n",
       "      <td>NaN</td>\n",
       "      <td>NaN</td>\n",
       "    </tr>\n",
       "    <tr>\n",
       "      <th>1</th>\n",
       "      <td>Ahri</td>\n",
       "      <td>103.0</td>\n",
       "      <td>Ahri</td>\n",
       "      <td>the Nine-Tailed Fox</td>\n",
       "      <td>2</td>\n",
       "      <td>Mage</td>\n",
       "      <td>Assassin</td>\n",
       "      <td>Mana</td>\n",
       "      <td>{'hp_base': 590, 'hp_lvl': 104, 'mp_base': 418...</td>\n",
       "      <td>Ranged</td>\n",
       "      <td>...</td>\n",
       "      <td>3150</td>\n",
       "      <td>790</td>\n",
       "      <td>{1: 'Essence Theft'}</td>\n",
       "      <td>{1: 'Orb of Deception'}</td>\n",
       "      <td>{1: 'Fox-Fire'}</td>\n",
       "      <td>{1: 'Charm'}</td>\n",
       "      <td>{1: 'Spirit Rush'}</td>\n",
       "      <td>{1: 'Essence Theft', 2: 'Orb of Deception', 3:...</td>\n",
       "      <td>NaN</td>\n",
       "      <td>NaN</td>\n",
       "    </tr>\n",
       "    <tr>\n",
       "      <th>2</th>\n",
       "      <td>Akali</td>\n",
       "      <td>84.0</td>\n",
       "      <td>Akali</td>\n",
       "      <td>the Rogue Assassin</td>\n",
       "      <td>2</td>\n",
       "      <td>Assassin</td>\n",
       "      <td>NaN</td>\n",
       "      <td>Energy</td>\n",
       "      <td>{'hp_base': 600, 'hp_lvl': 119, 'mp_base': 200...</td>\n",
       "      <td>Melee</td>\n",
       "      <td>...</td>\n",
       "      <td>3150</td>\n",
       "      <td>790</td>\n",
       "      <td>{1: \"Assassin's Mark\"}</td>\n",
       "      <td>{1: 'Five Point Strike'}</td>\n",
       "      <td>{1: 'Twilight Shroud'}</td>\n",
       "      <td>{1: 'Shuriken Flip'}</td>\n",
       "      <td>{1: 'Perfect Execution'}</td>\n",
       "      <td>{1: \"Assassin's Mark\", 2: 'Five Point Strike',...</td>\n",
       "      <td>Akali Jhomen Tethi</td>\n",
       "      <td>NaN</td>\n",
       "    </tr>\n",
       "    <tr>\n",
       "      <th>3</th>\n",
       "      <td>Akshan</td>\n",
       "      <td>166.0</td>\n",
       "      <td>Akshan</td>\n",
       "      <td>the Rogue Sentinel</td>\n",
       "      <td>3</td>\n",
       "      <td>Marksman</td>\n",
       "      <td>Assassin</td>\n",
       "      <td>Mana</td>\n",
       "      <td>{'hp_base': 630, 'hp_lvl': 107, 'mp_base': 350...</td>\n",
       "      <td>Ranged</td>\n",
       "      <td>...</td>\n",
       "      <td>4800</td>\n",
       "      <td>880</td>\n",
       "      <td>{1: 'Dirty Fighting'}</td>\n",
       "      <td>{1: 'Avengerang'}</td>\n",
       "      <td>{1: 'Going Rogue'}</td>\n",
       "      <td>{1: 'Heroic Swing'}</td>\n",
       "      <td>{1: 'Comeuppance'}</td>\n",
       "      <td>{1: 'Dirty Fighting', 2: 'Avengerang', 3: 'Goi...</td>\n",
       "      <td>NaN</td>\n",
       "      <td>NaN</td>\n",
       "    </tr>\n",
       "    <tr>\n",
       "      <th>4</th>\n",
       "      <td>Alistar</td>\n",
       "      <td>12.0</td>\n",
       "      <td>Alistar</td>\n",
       "      <td>the Minotaur</td>\n",
       "      <td>1</td>\n",
       "      <td>Tank</td>\n",
       "      <td>Support</td>\n",
       "      <td>Mana</td>\n",
       "      <td>{'hp_base': 685, 'hp_lvl': 120, 'mp_base': 350...</td>\n",
       "      <td>Melee</td>\n",
       "      <td>...</td>\n",
       "      <td>1350</td>\n",
       "      <td>585</td>\n",
       "      <td>{1: 'Triumphant Roar'}</td>\n",
       "      <td>{1: 'Pulverize'}</td>\n",
       "      <td>{1: 'Headbutt'}</td>\n",
       "      <td>{1: 'Trample'}</td>\n",
       "      <td>{1: 'Unbreakable Will'}</td>\n",
       "      <td>{1: 'Triumphant Roar', 2: 'Pulverize', 3: 'Hea...</td>\n",
       "      <td>NaN</td>\n",
       "      <td>NaN</td>\n",
       "    </tr>\n",
       "  </tbody>\n",
       "</table>\n",
       "<p>5 rows × 33 columns</p>\n",
       "</div>"
      ],
      "text/plain": [
       "  Unnamed: 0     id  apiname                title  difficulty  herotype  \\\n",
       "0     Aatrox  266.0   Aatrox     the Darkin Blade           2   Fighter   \n",
       "1       Ahri  103.0     Ahri  the Nine-Tailed Fox           2      Mage   \n",
       "2      Akali   84.0    Akali   the Rogue Assassin           2  Assassin   \n",
       "3     Akshan  166.0   Akshan   the Rogue Sentinel           3  Marksman   \n",
       "4    Alistar   12.0  Alistar         the Minotaur           1      Tank   \n",
       "\n",
       "    alttype    resource                                              stats  \\\n",
       "0      Tank  Blood Well  {'hp_base': 650, 'hp_lvl': 114, 'mp_base': 0, ...   \n",
       "1  Assassin        Mana  {'hp_base': 590, 'hp_lvl': 104, 'mp_base': 418...   \n",
       "2       NaN      Energy  {'hp_base': 600, 'hp_lvl': 119, 'mp_base': 200...   \n",
       "3  Assassin        Mana  {'hp_base': 630, 'hp_lvl': 107, 'mp_base': 350...   \n",
       "4   Support        Mana  {'hp_base': 685, 'hp_lvl': 120, 'mp_base': 350...   \n",
       "\n",
       "  rangetype  ...    be   rp                     skill_i  \\\n",
       "0     Melee  ...  4800  880  {1: 'Deathbringer Stance'}   \n",
       "1    Ranged  ...  3150  790        {1: 'Essence Theft'}   \n",
       "2     Melee  ...  3150  790      {1: \"Assassin's Mark\"}   \n",
       "3    Ranged  ...  4800  880       {1: 'Dirty Fighting'}   \n",
       "4     Melee  ...  1350  585      {1: 'Triumphant Roar'}   \n",
       "\n",
       "                                            skill_q                 skill_w  \\\n",
       "0  {1: 'The Darkin Blade', 2: 'The Darkin Blade 3'}  {1: 'Infernal Chains'}   \n",
       "1                           {1: 'Orb of Deception'}         {1: 'Fox-Fire'}   \n",
       "2                          {1: 'Five Point Strike'}  {1: 'Twilight Shroud'}   \n",
       "3                                 {1: 'Avengerang'}      {1: 'Going Rogue'}   \n",
       "4                                  {1: 'Pulverize'}         {1: 'Headbutt'}   \n",
       "\n",
       "                skill_e                   skill_r  \\\n",
       "0    {1: 'Umbral Dash'}        {1: 'World Ender'}   \n",
       "1          {1: 'Charm'}        {1: 'Spirit Rush'}   \n",
       "2  {1: 'Shuriken Flip'}  {1: 'Perfect Execution'}   \n",
       "3   {1: 'Heroic Swing'}        {1: 'Comeuppance'}   \n",
       "4        {1: 'Trample'}   {1: 'Unbreakable Will'}   \n",
       "\n",
       "                                              skills            fullname  \\\n",
       "0  {1: 'Deathbringer Stance', 2: 'The Darkin Blad...                 NaN   \n",
       "1  {1: 'Essence Theft', 2: 'Orb of Deception', 3:...                 NaN   \n",
       "2  {1: \"Assassin's Mark\", 2: 'Five Point Strike',...  Akali Jhomen Tethi   \n",
       "3  {1: 'Dirty Fighting', 2: 'Avengerang', 3: 'Goi...                 NaN   \n",
       "4  {1: 'Triumphant Roar', 2: 'Pulverize', 3: 'Hea...                 NaN   \n",
       "\n",
       "   nickname  \n",
       "0       NaN  \n",
       "1       NaN  \n",
       "2       NaN  \n",
       "3       NaN  \n",
       "4       NaN  \n",
       "\n",
       "[5 rows x 33 columns]"
      ]
     },
     "execution_count": 7,
     "metadata": {},
     "output_type": "execute_result"
    }
   ],
   "source": [
    "df = pd.read_csv(\"110225_lol_champion_data.csv\")\n",
    "df.head(5)"
   ]
  },
  {
   "cell_type": "code",
   "execution_count": 15,
   "id": "5b4f591d-a00d-43bc-a3d9-ffbf55eb64be",
   "metadata": {},
   "outputs": [
    {
     "data": {
      "text/plain": [
       "172"
      ]
     },
     "execution_count": 15,
     "metadata": {},
     "output_type": "execute_result"
    }
   ],
   "source": [
    "#carga csv en base de datos sqlite\n",
    "import sqlite3\n",
    "from sqlalchemy import create_engine\n",
    "\n",
    "#crear un motor de base de datos SQLite con SQLALCHEMY\n",
    "engine = create_engine(\"sqlite:///lol_champions.db\")\n",
    "\n",
    "df.to_sql(\"champions\", engine, if_exists=\"replace\", index=False)"
   ]
  },
  {
   "cell_type": "code",
   "execution_count": 23,
   "id": "b408fb0a-9a39-4c82-829f-2efc0a561b49",
   "metadata": {},
   "outputs": [],
   "source": [
    "#importar dotenv para cargar variables de entorno \n",
    "from dotenv import load_dotenv\n",
    "import os\n",
    "\n",
    "from langchain_community.utilities import SQLDatabase\n",
    "from langchain_community.agent_toolkits import create_sql_agent\n",
    "from langchain_openai import ChatOpenAI\n",
    "#cargar variables de entorno desde el archivo .env\n",
    "load_dotenv()\n",
    "#conectar el agente lLangchain con la base de datos SQL\n",
    "db = SQLDatabase(engine=engine)\n",
    "#instanciar el LLM\n",
    "llm = ChatOpenAI(model=\"gpt-4o\", temperature=0, openai_api_key=os.getenv('OPENAI_API_KEY'))\n",
    "#creamos el agente con el executor\n",
    "agent_executor = create_sql_agent(llm, db=db, agent_type=\"openai-tools\", verbose=False)"
   ]
  },
  {
   "cell_type": "code",
   "execution_count": 25,
   "id": "646be177-78b0-4b30-8834-3de39616e5b0",
   "metadata": {},
   "outputs": [
    {
     "name": "stdout",
     "output_type": "stream",
     "text": [
      "Hay un total de 172 campeones en el dataset.\n"
     ]
    }
   ],
   "source": [
    "#CONSULTAR DATOS\n",
    "response = agent_executor.invoke({\"input\": \"¿Cuántos campeones hay en total en el dataset?\"})\n",
    "print(response[\"output\"])"
   ]
  },
  {
   "cell_type": "code",
   "execution_count": 27,
   "id": "336489e1-6f89-42f4-a4f8-af4233ca35c4",
   "metadata": {},
   "outputs": [
    {
     "data": {
      "text/plain": [
       "172"
      ]
     },
     "execution_count": 27,
     "metadata": {},
     "output_type": "execute_result"
    }
   ],
   "source": [
    "#verificacion cruzada\n",
    "len(df)"
   ]
  },
  {
   "cell_type": "code",
   "execution_count": 29,
   "id": "d600b5cd-3cb6-4d71-b9f2-99d050600bb6",
   "metadata": {},
   "outputs": [
    {
     "name": "stdout",
     "output_type": "stream",
     "text": [
      "El campeón con el mayor HP base en el juego es Kled, con un HP base de 810.\n"
     ]
    }
   ],
   "source": [
    "response = agent_executor.invoke({\"input\": \"¿Cuál es el campeón con mayor HP base en el juego?\"})\n",
    "\n",
    "print(response[\"output\"])"
   ]
  },
  {
   "cell_type": "code",
   "execution_count": 38,
   "id": "42abb85a-ccd2-4729-a14d-2502e17176d7",
   "metadata": {},
   "outputs": [
    {
     "name": "stdout",
     "output_type": "stream",
     "text": [
      "Parece que hay un problema con los datos, ya que varios campeones no tienen un nombre completo asociado. Sin embargo, todos los campeones en los resultados tienen un nivel de dificultad de 3, que parece ser el nivel más alto en la base de datos. \n",
      "\n",
      "Si necesitas más información o un análisis diferente, por favor házmelo saber.\n"
     ]
    }
   ],
   "source": [
    "#crear agente con verbose=True\n",
    "agent_executor = create_sql_agent(llm, db=db, agent_type=\"openai-tools\", verbose=False)\n",
    "\n",
    "response = agent_executor.invoke({\"input\": \"¿Cuáles son los 5 campeones más dificiles de jugar segun su nivel de dificultad y ordenalos?\"})\n",
    "print(response[\"output\"])"
   ]
  },
  {
   "cell_type": "code",
   "execution_count": 40,
   "id": "95afbd79-d3bf-4ff3-a020-165c48e77741",
   "metadata": {},
   "outputs": [
    {
     "name": "stdout",
     "output_type": "stream",
     "text": [
      "Aquí tienes el número de campeones por cada rol principal:\n",
      "\n",
      "1. Tirador (Marksman): 21 campeones\n",
      "2. Vanguardia (Vanguard): 16 campeones\n",
      "3. Luchador (Diver): 15 campeones\n",
      "4. Especialista (Specialist): 14 campeones\n",
      "5. Escaramuzador (Skirmisher): 14 campeones\n",
      "6. Coloso (Juggernaut): 14 campeones\n",
      "7. Asesino (Assassin): 13 campeones\n",
      "8. Explosión (Burst): 12 campeones\n",
      "9. Mago de batalla (Battlemage): 11 campeones\n",
      "10. Encantador (Enchanter): 8 campeones\n"
     ]
    }
   ],
   "source": [
    "agent_executor = create_sql_agent(llm, db=db, agent_type=\"openai-tools\", verbose=False)\n",
    "\n",
    "response = agent_executor.invoke({\"input\": \"¿Cuantos campeones hay por cada rol principal?\"})\n",
    "print(response[\"output\"])"
   ]
  }
 ],
 "metadata": {
  "kernelspec": {
   "display_name": "Python [conda env:.conda-langchain-env]",
   "language": "python",
   "name": "conda-env-.conda-langchain-env-py"
  },
  "language_info": {
   "codemirror_mode": {
    "name": "ipython",
    "version": 3
   },
   "file_extension": ".py",
   "mimetype": "text/x-python",
   "name": "python",
   "nbconvert_exporter": "python",
   "pygments_lexer": "ipython3",
   "version": "3.12.11"
  }
 },
 "nbformat": 4,
 "nbformat_minor": 5
}
